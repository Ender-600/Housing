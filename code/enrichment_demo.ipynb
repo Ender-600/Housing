{
  "cells": [
    {
      "cell_type": "markdown",
      "metadata": {},
      "source": [
        "# Housing Data Enrichment Demo\n",
        "\n",
        "This notebook demonstrates how to use API services to add new attributes to housing listing data.\n"
      ]
    },
    {
      "cell_type": "code",
      "execution_count": null,
      "metadata": {},
      "outputs": [],
      "source": [
        "import pandas as pd\n",
        "import asyncio\n",
        "from services.census import median_income_from_latlon\n",
        "from services.mtd import bus_stops_within_1km\n",
        "from services.police_beats import police_beat_for_point\n",
        "from services.google_places import count_places_nearby\n",
        "from services.google_routes import drive_time_minutes\n"
      ]
    },
    {
      "cell_type": "markdown",
      "metadata": {},
      "source": [
        "## 1. Load Data and Test Single Listing\n",
        "\n",
        "Load the data and test the first listing to verify that all APIs are working correctly.\n"
      ]
    },
    {
      "cell_type": "code",
      "execution_count": null,
      "metadata": {},
      "outputs": [],
      "source": [
        "# Load housing listings data\n",
        "df = pd.read_csv('../data/listings_details_allcities.csv')\n",
        "print(f\"Loaded {len(df)} listings\")\n",
        "\n",
        "# Get the first listing for testing\n",
        "first_listing = df.iloc[0]\n",
        "lat = first_listing['latitude']\n",
        "lon = first_listing['longitude']\n",
        "address = first_listing['address']\n",
        "\n",
        "print(f\"\\nTest listing: {address}\")\n",
        "print(f\"Coordinates: ({lat}, {lon})\")\n"
      ]
    },
    {
      "cell_type": "code",
      "execution_count": null,
      "metadata": {},
      "outputs": [],
      "source": [
        "# Test all APIs\n",
        "print(\"Testing Census API...\")\n",
        "median_income = await median_income_from_latlon(lat, lon)\n",
        "print(f\"✓ Median household income: ${median_income:,}\" if median_income else \"- No data\")\n",
        "\n",
        "print(\"\\nTesting MTD API...\")\n",
        "bus_stops = await bus_stops_within_1km(lat, lon)\n",
        "print(f\"✓ Bus stops within 1km: {bus_stops}\")\n",
        "\n",
        "print(\"\\nTesting Police Beats API...\")\n",
        "police_beat = await police_beat_for_point(lat, lon)\n",
        "print(f\"✓ Police beat: {police_beat}\" if police_beat else \"- Not within any police beat\")\n",
        "\n",
        "print(\"\\nTesting Google Places API...\")\n",
        "restaurants = await count_places_nearby(lat, lon, included_types=[\"restaurant\"], radius_m=1000)\n",
        "print(f\"✓ Nearby restaurants: {restaurants}\")\n",
        "\n",
        "print(\"\\nTesting Google Routes API...\")\n",
        "uiuc_coords = (40.110244, -88.227258)\n",
        "drive_time = await drive_time_minutes((lat, lon), uiuc_coords, mode=\"DRIVE\")\n",
        "print(f\"✓ Drive time to UIUC Main Quad: {drive_time:.1f} minutes\" if drive_time else \"- No route data\")\n"
      ]
    },
    {
      "cell_type": "markdown",
      "metadata": {},
      "source": [
        "## 📝 Next Steps\n",
        "\n",
        "If the API tests are successful, you can process the complete dataset using the command line script:\n",
        "\n",
        "```bash\n",
        "# Process all listings with default settings\n",
        "python code/enrich_listings.py -i data/listings_details_allcities.csv -o data/listings_enriched.csv\n",
        "\n",
        "# Skip expensive Google APIs (use only free APIs)\n",
        "python code/enrich_listings.py -i data/listings.csv -o data/enriched.csv --skip-places --skip-routes\n",
        "\n",
        "# Custom batch size and search radius\n",
        "python code/enrich_listings.py -i data/listings.csv -o data/enriched.csv --batch-size 10 --places-radius 500\n",
        "\n",
        "# Resume from a specific index if interrupted\n",
        "python code/enrich_listings.py -i data/listings.csv -o data/enriched.csv --start-idx 100\n",
        "```\n",
        "\n",
        "For more information, see:\n",
        "- `code/ENRICHMENT_README.md` - Detailed documentation\n"
      ]
    }
  ],
  "metadata": {
    "language_info": {
      "name": "python"
    }
  },
  "nbformat": 4,
  "nbformat_minor": 2
}
